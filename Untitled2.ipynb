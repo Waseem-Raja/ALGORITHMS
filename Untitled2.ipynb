{
  "nbformat": 4,
  "nbformat_minor": 0,
  "metadata": {
    "colab": {
      "name": "Untitled2.ipynb",
      "provenance": [],
      "authorship_tag": "ABX9TyOWnGHiRmO5IBVSX1ivpJyS",
      "include_colab_link": true
    },
    "kernelspec": {
      "name": "python3",
      "display_name": "Python 3"
    },
    "language_info": {
      "name": "python"
    }
  },
  "cells": [
    {
      "cell_type": "markdown",
      "metadata": {
        "id": "view-in-github",
        "colab_type": "text"
      },
      "source": [
        "<a href=\"https://colab.research.google.com/github/Waseem-Raja/MACHINE-LEARNING/blob/main/Untitled2.ipynb\" target=\"_parent\"><img src=\"https://colab.research.google.com/assets/colab-badge.svg\" alt=\"Open In Colab\"/></a>"
      ]
    },
    {
      "cell_type": "code",
      "execution_count": null,
      "metadata": {
        "colab": {
          "base_uri": "https://localhost:8080/"
        },
        "id": "3B7DsmjNon76",
        "outputId": "400b9ef0-29da-418d-ccca-cca7ee5d4f28"
      },
      "outputs": [
        {
          "output_type": "stream",
          "name": "stdout",
          "text": [
            "Drive already mounted at /content/drive; to attempt to forcibly remount, call drive.mount(\"/content/drive\", force_remount=True).\n"
          ]
        }
      ],
      "source": [
        "from google.colab import drive\n",
        "drive.mount('/content/drive')"
      ]
    },
    {
      "cell_type": "code",
      "source": [
        "import numpy as np\n",
        "import pandas as pd\n",
        "ds=pd.read_csv(\"/content/drive/MyDrive/trainingdata..csv\")\n",
        "print(ds.head(10))"
      ],
      "metadata": {
        "colab": {
          "base_uri": "https://localhost:8080/"
        },
        "id": "yYrx-vfFA7XW",
        "outputId": "b447be35-2fc8-47e3-e9ed-efda21fc32b0"
      },
      "execution_count": null,
      "outputs": [
        {
          "output_type": "stream",
          "name": "stdout",
          "text": [
            "   height  weight t-shirt size\n",
            "0     158      58            M\n",
            "1     158      59            M\n",
            "2     160      59            M\n",
            "3     160      60            M\n",
            "4     163      60            M\n",
            "5     163      61            M\n",
            "6     160      64            L\n",
            "7     165      61            L\n",
            "8     168      66            L\n",
            "9     170      63            L\n"
          ]
        }
      ]
    },
    {
      "cell_type": "code",
      "source": [
        "#now splitting the datset into features and labels\n",
        "features=ds.values[: ,0:-1] #taking features as an array with all rows and two feature cols from the original dataset\n",
        "print(features) \n",
        "# now for labels or classes\n",
        "lables=ds.values[:,-1] # taking only label col as an array\n",
        "print(lables)\n",
        "M=0\n",
        "L=1\n",
        "#taking our Querypoint who's class is to be predicted\n",
        "QueryPoint=np.array([169,60])"
      ],
      "metadata": {
        "colab": {
          "base_uri": "https://localhost:8080/"
        },
        "id": "GA1k7A068Gxq",
        "outputId": "dec0e30f-edc3-43ae-f900-91d3c307df90"
      },
      "execution_count": null,
      "outputs": [
        {
          "output_type": "stream",
          "name": "stdout",
          "text": [
            "[[158 58]\n",
            " [158 59]\n",
            " [160 59]\n",
            " [160 60]\n",
            " [163 60]\n",
            " [163 61]\n",
            " [160 64]\n",
            " [165 61]\n",
            " [168 66]\n",
            " [170 63]]\n",
            "['M' 'M' 'M' 'M' 'M' 'M' 'L' 'L' 'L' 'L']\n"
          ]
        }
      ]
    },
    {
      "cell_type": "code",
      "source": [
        "# now as per our algorithm we have to calculate the distance from our queryPoint to all other data points (features)\n",
        "#we will use Euclidean distance for that\n",
        "def Euclidean_Distance(a,b):\n",
        "  return np.sqrt(np.sum((a-b))**2) # this will return the distance of two data points\n",
        "def Get_Distance(QueryPointt, featuress):\n",
        "  m=features.shape[0]    # to know the total no. of features we will use shape it returns total number of rows and cols so at index 0  there will be rows\n",
        "  Distance_Array=np.zeros(m)      #Creating an distnce array to hold all the distance values of size m which is total number of features\n",
        "  for i in range(m): # looping over feature array \n",
        "    d=Euclidean_Distance(QueryPointt, featuress[i])  # passing our querypoint and each datapoint at i index's to the euclidean distance fun to calculate the distance between them\n",
        "    Distance_Array[i]=d   # storing the distance's\n",
        "  return Distance_Array   \n",
        "  #Now we will pass our Original Querypoint and feature array to the Get distance funtion\n",
        "distances=Get_Distance(QueryPoint,features) \n",
        "#now we will sort the distance's using argsort which returns the index's of values in a sorted way\n",
        "sorted_dist=np.argsort(distances)\n",
        "\n",
        "#now choosing our k (Hyperparameter)\n",
        "K=5\n",
        "Total_Class=2    # total number of class lables\n",
        "\n",
        "# Finding the k nearest neighbor from sorted distance array and then doing majority voting \n",
        "\n",
        "Frequency= np.zeros(Total_Class) \n",
        "for i in range(K):\n",
        "    labell=lables[sorted_dist[i]] # labell will hold the k nearest neighbor's label (as we have already sorted them so only first k nearest neighnor will be checked)\n",
        "    labell = 0 if labell=='M' else 1\n",
        "    Frequency[labell]= Frequency[labell]+1\n",
        " # After we majority voting is done now we will assign our QueryPoint to the class having high majority among the k nearest neighbors\n",
        "Predicted_Class=np.argmax(Frequency)    #Argmax will higher number in Frequency\n",
        "Predicted_Class = 'M' if Predicted_Class==0 else \"L\"\n",
        "print(f'Predicted-Class of {QueryPoint} is : {Predicted_Class}')  # print the class of our Querypoint\n"
      ],
      "metadata": {
        "colab": {
          "base_uri": "https://localhost:8080/"
        },
        "id": "wR0svlRd9oXx",
        "outputId": "e743ccde-3725-46ef-b1cc-c7088a78cc76"
      },
      "execution_count": null,
      "outputs": [
        {
          "output_type": "stream",
          "name": "stdout",
          "text": [
            "Predicted-Class of [169  60] is : L\n"
          ]
        }
      ]
    },
    {
      "cell_type": "markdown",
      "source": [
        "# New Section"
      ],
      "metadata": {
        "id": "ot2rKRI-7YDi"
      }
    }
  ]
}