{
  "nbformat": 4,
  "nbformat_minor": 0,
  "metadata": {
    "colab": {
      "name": "Untitled5.ipynb",
      "provenance": [],
      "authorship_tag": "ABX9TyMD0TOX4pBvr6/jIbpCGQrp",
      "include_colab_link": true
    },
    "kernelspec": {
      "name": "python3",
      "display_name": "Python 3"
    },
    "language_info": {
      "name": "python"
    }
  },
  "cells": [
    {
      "cell_type": "markdown",
      "metadata": {
        "id": "view-in-github",
        "colab_type": "text"
      },
      "source": [
        "<a href=\"https://colab.research.google.com/github/Waseem-Raja/MACHINE-LEARNING/blob/main/Untitled5.ipynb\" target=\"_parent\"><img src=\"https://colab.research.google.com/assets/colab-badge.svg\" alt=\"Open In Colab\"/></a>"
      ]
    },
    {
      "cell_type": "code",
      "execution_count": null,
      "metadata": {
        "colab": {
          "base_uri": "https://localhost:8080/"
        },
        "id": "2BRKJfM_l2p-",
        "outputId": "ba159a29-aa76-4660-8541-bd0e5a8418b6"
      },
      "outputs": [
        {
          "output_type": "stream",
          "name": "stdout",
          "text": [
            "Mounted at /content/drive\n"
          ]
        }
      ],
      "source": [
        "from google.colab import drive\n",
        "drive.mount('/content/drive')"
      ]
    },
    {
      "cell_type": "code",
      "source": [
        "import numpy as np\n",
        "import pandas as pd\n",
        "import matplotlib.pyplot as plt\n",
        "ds=pd.read_csv(\"/content/drive/MyDrive/LL.csv\")\n",
        "print(ds.head())"
      ],
      "metadata": {
        "id": "K4FUMrHOmyu4",
        "colab": {
          "base_uri": "https://localhost:8080/"
        },
        "outputId": "7827b526-2328-4668-e373-708116bfecd2"
      },
      "execution_count": 14,
      "outputs": [
        {
          "output_type": "stream",
          "name": "stdout",
          "text": [
            "   Age             BP\n",
            "0   39            144\n",
            "1   47            220\n",
            "2   45            138\n",
            "3   47            145\n",
            "4   65            162\n"
          ]
        }
      ]
    },
    {
      "cell_type": "code",
      "source": [
        "#now splitting the datset into features and labels\n",
        "X=ds.values[:,0] #taking features as an array with all rows and two feature cols from the original dataset\n",
        "print(X) \n",
        "\n",
        "\n",
        "# now for labels or classes\n",
        "Y=ds.values[:,1] # taking only label col as an array\n",
        "print(Y)"
      ],
      "metadata": {
        "colab": {
          "base_uri": "https://localhost:8080/"
        },
        "id": "MUj_HxHPnSH-",
        "outputId": "23b99997-a6df-486e-c336-b6b3f3531f02"
      },
      "execution_count": 15,
      "outputs": [
        {
          "output_type": "stream",
          "name": "stdout",
          "text": [
            "[39 47 45 47 65 46 67 42 67 56 64 56 59 34 42 48 45 17 20 19 36 50 39 21\n",
            " 44 53 63 29 25 69]\n",
            "[144 220 138 145 162 142 170 124 158 154 162 150 140 110 128 130 135 114\n",
            " 116 124 136 142 120 120 160 158 144 130 125 175]\n"
          ]
        }
      ]
    },
    {
      "cell_type": "code",
      "source": [
        "#displaying our data points on the graph\n",
        "plt.scatter(X,Y)\n",
        "plt.show()"
      ],
      "metadata": {
        "colab": {
          "base_uri": "https://localhost:8080/",
          "height": 265
        },
        "id": "cb0QuaKBk9xc",
        "outputId": "ccba80da-faef-4d01-9964-cd7bb9f12330"
      },
      "execution_count": 16,
      "outputs": [
        {
          "output_type": "display_data",
          "data": {
            "image/png": "[encoded data removed]",
            "text/plain": [
              "<Figure size 432x288 with 1 Axes>"
            ]
          },
          "metadata": {
            "needs_background": "light"
          }
        }
      ]
    },
    {
      "cell_type": "code",
      "source": [
        "#Calculate Mean\n",
        "mean_X=np.mean(X)\n",
        "mean_Y=np.mean(Y)\n",
        "\n",
        "n=len(X)\n",
        "M=0\n",
        "C=0\n",
        "\n",
        "#Calculating M \n",
        "numer=0\n",
        "denom=0\n",
        "for i in range(n):\n",
        "     \n",
        "      numer+=(X[i]-mean_X)*(Y[i]-mean_Y)\n",
        "      denom+=(X[i]-mean_X)**2\n",
        "\n",
        "#Update the values of M and C    \n",
        "M=numer/denom\n",
        "C=mean_Y-(M*mean_X)   \n",
        "\n",
        "print(M,C)\n",
        "\n",
        "\n",
        "#These are the predicted values\n",
        "for i in range(n):\n",
        "    Y_Predict=M*X+C\n",
        "print(Y_Predict)\n",
        "\n",
        "\n",
        "#CALCULATING MEAN SQUARED ERROR i.e the average squared error over all the datapoints(Actual values-Predicted Values)\n",
        "for i in range(n):\n",
        "      MSE=np.square((Y[i]-(M*X[i]+C)))/n\n",
        "print(MSE)      "
      ],
      "metadata": {
        "id": "OYq6ig0QnMmF",
        "colab": {
          "base_uri": "https://localhost:8080/"
        },
        "outputId": "2b0b5039-2be4-4a38-e99e-260f8caaaef1"
      },
      "execution_count": 46,
      "outputs": [
        {
          "output_type": "stream",
          "name": "stdout",
          "text": [
            "0.9708703514427236 98.71471813821842\n",
            "[136.57866184 144.34562466 142.40388395 144.34562466 161.82129098\n",
            " 143.3747543  163.76303168 139.4912729  163.76303168 153.08345782\n",
            " 160.85042063 153.08345782 155.99606887 131.72431009 139.4912729\n",
            " 145.31649501 142.40388395 115.21951411 118.13212517 117.16125482\n",
            " 133.66605079 147.25823571 136.57866184 119.10299552 141.4330136\n",
            " 150.17084676 159.87955028 126.86995833 122.98647692 165.70477239]\n",
            "2.88004187877436\n"
          ]
        }
      ]
    },
    {
      "cell_type": "code",
      "source": [
        ""
      ],
      "metadata": {
        "id": "vlaYFuQU7x6T"
      },
      "execution_count": null,
      "outputs": []
    },
    {
      "cell_type": "code",
      "source": [
        "#using Gradient Descent to reduce the cost and update M and C Iteratively\n",
        "L=0.0001\n",
        "Dm=0\n",
        "Dc=0\n",
        "epoches=1000\n",
        "for i in range(n):\n",
        "  Dm=(-2/n)*sum(X*(Y-Y_Predict))\n",
        "  Dc=(-2/n)*sum(Y-Y_Predict)\n",
        "  M=M-L*Dm\n",
        "  C=C-L*Dc\n",
        "\n",
        "print(M,C)\n",
        "\n",
        "\n",
        "\n"
      ],
      "metadata": {
        "colab": {
          "base_uri": "https://localhost:8080/",
          "height": 234
        },
        "id": "v_i29Gs1tKIv",
        "outputId": "4970110a-5ccf-4852-f6de-1769cbb6dc7a"
      },
      "execution_count": 2,
      "outputs": [
        {
          "output_type": "error",
          "ename": "NameError",
          "evalue": "ignored",
          "traceback": [
            "\u001b[0;31m---------------------------------------------------------------------------\u001b[0m",
            "\u001b[0;31mNameError\u001b[0m                                 Traceback (most recent call last)",
            "\u001b[0;32m<ipython-input-2-299e37b564a1>\u001b[0m in \u001b[0;36m<module>\u001b[0;34m()\u001b[0m\n\u001b[1;32m      4\u001b[0m \u001b[0mDc\u001b[0m\u001b[0;34m=\u001b[0m\u001b[0;36m0\u001b[0m\u001b[0;34m\u001b[0m\u001b[0;34m\u001b[0m\u001b[0m\n\u001b[1;32m      5\u001b[0m \u001b[0mepoches\u001b[0m\u001b[0;34m=\u001b[0m\u001b[0;36m1000\u001b[0m\u001b[0;34m\u001b[0m\u001b[0;34m\u001b[0m\u001b[0m\n\u001b[0;32m----> 6\u001b[0;31m \u001b[0;32mfor\u001b[0m \u001b[0mi\u001b[0m \u001b[0;32min\u001b[0m \u001b[0mrange\u001b[0m\u001b[0;34m(\u001b[0m\u001b[0mn\u001b[0m\u001b[0;34m)\u001b[0m\u001b[0;34m:\u001b[0m\u001b[0;34m\u001b[0m\u001b[0;34m\u001b[0m\u001b[0m\n\u001b[0m\u001b[1;32m      7\u001b[0m   \u001b[0mDm\u001b[0m\u001b[0;34m=\u001b[0m\u001b[0;34m(\u001b[0m\u001b[0;34m-\u001b[0m\u001b[0;36m2\u001b[0m\u001b[0;34m/\u001b[0m\u001b[0mn\u001b[0m\u001b[0;34m)\u001b[0m\u001b[0;34m*\u001b[0m\u001b[0msum\u001b[0m\u001b[0;34m(\u001b[0m\u001b[0mX\u001b[0m\u001b[0;34m*\u001b[0m\u001b[0;34m(\u001b[0m\u001b[0mY\u001b[0m\u001b[0;34m-\u001b[0m\u001b[0mY_Predict\u001b[0m\u001b[0;34m)\u001b[0m\u001b[0;34m)\u001b[0m\u001b[0;34m\u001b[0m\u001b[0;34m\u001b[0m\u001b[0m\n\u001b[1;32m      8\u001b[0m   \u001b[0mDc\u001b[0m\u001b[0;34m=\u001b[0m\u001b[0;34m(\u001b[0m\u001b[0;34m-\u001b[0m\u001b[0;36m2\u001b[0m\u001b[0;34m/\u001b[0m\u001b[0mn\u001b[0m\u001b[0;34m)\u001b[0m\u001b[0;34m*\u001b[0m\u001b[0msum\u001b[0m\u001b[0;34m(\u001b[0m\u001b[0mY\u001b[0m\u001b[0;34m-\u001b[0m\u001b[0mY_Predict\u001b[0m\u001b[0;34m)\u001b[0m\u001b[0;34m\u001b[0m\u001b[0;34m\u001b[0m\u001b[0m\n",
            "\u001b[0;31mNameError\u001b[0m: name 'n' is not defined"
          ]
        }
      ]
    },
    {
      "cell_type": "code",
      "source": [
        "plt.plot(X, Y, 'o')\n",
        "m, b = np.polyfit(X, Y, 1)\n",
        "plt.plot(X, m*X + b)"
      ],
      "metadata": {
        "colab": {
          "base_uri": "https://localhost:8080/",
          "height": 282
        },
        "id": "zlmVIlLkuGi9",
        "outputId": "db45c2ed-1b50-4e25-9118-38c7955614d6"
      },
      "execution_count": 45,
      "outputs": [
        {
          "output_type": "execute_result",
          "data": {
            "text/plain": [
              "[<matplotlib.lines.Line2D at 0x7ff42dcf7890>]"
            ]
          },
          "metadata": {},
          "execution_count": 45
        },
        {
          "output_type": "display_data",
          "data": {
            "image/png": "[encoded data removed]",
            "text/plain": [
              "<Figure size 432x288 with 1 Axes>"
            ]
          },
          "metadata": {
            "needs_background": "light"
          }
        }
      ]
    }
  ]
}