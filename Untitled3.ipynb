{
  "nbformat": 4,
  "nbformat_minor": 0,
  "metadata": {
    "colab": {
      "name": "Untitled3.ipynb",
      "provenance": [],
      "collapsed_sections": [],
      "authorship_tag": "ABX9TyMTGwTz9LnER6Zd7QsQVCXb",
      "include_colab_link": true
    },
    "kernelspec": {
      "name": "python3",
      "display_name": "Python 3"
    },
    "language_info": {
      "name": "python"
    }
  },
  "cells": [
    {
      "cell_type": "markdown",
      "metadata": {
        "id": "view-in-github",
        "colab_type": "text"
      },
      "source": [
        "<a href=\"https://colab.research.google.com/github/Waseem-Raja/MACHINE-LEARNING/blob/main/Untitled3.ipynb\" target=\"_parent\"><img src=\"https://colab.research.google.com/assets/colab-badge.svg\" alt=\"Open In Colab\"/></a>"
      ]
    },
    {
      "cell_type": "code",
      "execution_count": 17,
      "metadata": {
        "colab": {
          "base_uri": "https://localhost:8080/"
        },
        "id": "VfadCVyhNkDt",
        "outputId": "abe19de1-2b5d-4ee5-e0e2-068af2c93dae"
      },
      "outputs": [
        {
          "output_type": "stream",
          "name": "stdout",
          "text": [
            "Drive already mounted at /content/drive; to attempt to forcibly remount, call drive.mount(\"/content/drive\", force_remount=True).\n"
          ]
        }
      ],
      "source": [
        "from google.colab import drive\n",
        "drive.mount('/content/drive')"
      ]
    },
    {
      "cell_type": "code",
      "source": [
        "import numpy as np\n",
        "import pandas as pd\n",
        "ds=pd.read_csv(\"/content/drive/MyDrive/regknn.csv\")\n",
        "print(ds.head(10))"
      ],
      "metadata": {
        "colab": {
          "base_uri": "https://localhost:8080/"
        },
        "id": "NcRM9cDlOPfj",
        "outputId": "f448ae1a-e66c-47e3-9096-d80e03c581ab"
      },
      "execution_count": 50,
      "outputs": [
        {
          "output_type": "stream",
          "name": "stdout",
          "text": [
            "   Age  Loan($)  HousePriceIndex\n",
            "0   25    40000              135\n",
            "1   35    60000              256\n",
            "2   45    80000              231\n",
            "3   20    20000              267\n",
            "4   35    12000              139\n",
            "5   52    18000              150\n",
            "6   23    95000              127\n",
            "7   40    62000              216\n",
            "8   60   100000              139\n",
            "9   48   220000              250\n"
          ]
        }
      ]
    },
    {
      "cell_type": "code",
      "source": [
        "#now splitting the datset into features and labels\n",
        "features=ds.values[:,0:-1] #taking features as an array with all rows and two feature cols from the original dataset\n",
        "print(features)\n",
        "\n",
        "\n",
        "# now for labels or classes\n",
        "lables=ds.values[:,-1] # taking only label col as an array\n",
        "print(lables)\n"
      ],
      "metadata": {
        "colab": {
          "base_uri": "https://localhost:8080/"
        },
        "id": "sIRoEyMwOdVI",
        "outputId": "f4314368-4878-4eea-eacc-972bc726cff9"
      },
      "execution_count": 67,
      "outputs": [
        {
          "output_type": "stream",
          "name": "stdout",
          "text": [
            "[[    25  40000]\n",
            " [    35  60000]\n",
            " [    45  80000]\n",
            " [    20  20000]\n",
            " [    35  12000]\n",
            " [    52  18000]\n",
            " [    23  95000]\n",
            " [    40  62000]\n",
            " [    60 100000]\n",
            " [    48 220000]\n",
            " [    33 150000]]\n",
            "[135 256 231 267 139 150 127 216 139 250 264]\n"
          ]
        }
      ]
    },
    {
      "cell_type": "code",
      "source": [
        "QueryPoint=np.array([48,142000])"
      ],
      "metadata": {
        "id": "qLQ-XbXGRZn5"
      },
      "execution_count": 53,
      "outputs": []
    },
    {
      "cell_type": "code",
      "source": [
        "# now as per our algorithm we have to calculate the distance from our queryPoint to all other data points (features)\n",
        "#we will use Euclidean distance for that\n",
        "def Euclidean_Distance(a,b):\n",
        "  return np.sqrt(np.sum((a-b))**2) # this will return the distance of two data points\n",
        "\n",
        "\n",
        "\n",
        "\n",
        "  \n",
        "def Get_Distance(QueryPointt, featuress):\n",
        "  m=features.shape[0]    # to know the total no. of features we will use shape it returns total number of rows and cols so at index 0  there will be rows\n",
        "  Distance_Array=np.zeros(m)      #Creating an distnce array to hold all the distance values of size m which is total number of features\n",
        "  for i in range(m): # looping over feature array \n",
        "    d=Euclidean_Distance(QueryPointt, featuress[i])  # passing our querypoint and each datapoint at i index's to the euclidean distance fun to calculate the distance between them\n",
        "    Distance_Array[i]=d   # storing the distance's\n",
        "  return Distance_Array   \n",
        "\n",
        "\n",
        "\n",
        "  #Now we will pass our Original Querypoint and feature array to the Get distance funtion\n",
        "distances=Get_Distance(QueryPoint,features) \n",
        "\n",
        "\n",
        "\n",
        "\n",
        "#now we will sort the distance's using argsort which returns the index's of values in a sorted way\n",
        "sorted_dist=np.argsort(distances)\n",
        "print(sorted_dist)\n",
        "\n"
      ],
      "metadata": {
        "colab": {
          "base_uri": "https://localhost:8080/"
        },
        "id": "-TppXcfXRnCg",
        "outputId": "23bf7029-06d6-46a5-a3ce-0172f4f0e808"
      },
      "execution_count": 68,
      "outputs": [
        {
          "output_type": "stream",
          "name": "stdout",
          "text": [
            "[10  8  6  2  9  7  1  0  3  5  4]\n"
          ]
        }
      ]
    },
    {
      "cell_type": "code",
      "source": [
        "#now choosing our k (Hyperparameter)\n",
        "K=3\n",
        "\n",
        "#here we will find the average value of k nearest neighnors \n",
        "labell=0\n",
        "for i in range(K):\n",
        "    labell=labell+lables[sorted_dist[i]]\n",
        "Predicted_Hpi=labell/K;         # sum of k nearest neighbors divide by total no of neighbors that is k"
      ],
      "metadata": {
        "id": "DbBQ4Gn5iVKg"
      },
      "execution_count": 70,
      "outputs": []
    },
    {
      "cell_type": "code",
      "source": [
        "#printing the continuous value that is HPi for our Querpoint\n",
        "print(f'Predicted-Hpi of our Query-Point {QueryPoint} is : {Predicted_Hpi}')"
      ],
      "metadata": {
        "colab": {
          "base_uri": "https://localhost:8080/"
        },
        "id": "wYOZaUF8jVyi",
        "outputId": "9b485554-fb4f-4946-9b9e-2a96e8f79c2b"
      },
      "execution_count": 71,
      "outputs": [
        {
          "output_type": "stream",
          "name": "stdout",
          "text": [
            "Predicted-Hpi of our Query-Point [    48 142000] is : 176.66666666666666\n"
          ]
        }
      ]
    }
  ]
}